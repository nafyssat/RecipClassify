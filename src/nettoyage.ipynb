{
 "cells": [
  {
   "cell_type": "code",
   "execution_count": 1,
   "metadata": {},
   "outputs": [],
   "source": [
    "import pandas as pd\n",
    "import numpy as np\n",
    "import matplotlib.pyplot as plt\n"
   ]
  },
  {
   "cell_type": "code",
   "execution_count": 2,
   "metadata": {},
   "outputs": [],
   "source": [
    "train = pd.read_csv(\"/Users/nafyssata/Master DS/RecipClassify/data/train.csv\")"
   ]
  },
  {
   "cell_type": "code",
   "execution_count": 3,
   "metadata": {},
   "outputs": [
    {
     "data": {
      "text/html": [
       "<div>\n",
       "<style scoped>\n",
       "    .dataframe tbody tr th:only-of-type {\n",
       "        vertical-align: middle;\n",
       "    }\n",
       "\n",
       "    .dataframe tbody tr th {\n",
       "        vertical-align: top;\n",
       "    }\n",
       "\n",
       "    .dataframe thead th {\n",
       "        text-align: right;\n",
       "    }\n",
       "</style>\n",
       "<table border=\"1\" class=\"dataframe\">\n",
       "  <thead>\n",
       "    <tr style=\"text-align: right;\">\n",
       "      <th></th>\n",
       "      <th>doc_id</th>\n",
       "      <th>titre</th>\n",
       "      <th>type</th>\n",
       "      <th>difficulte</th>\n",
       "      <th>cout</th>\n",
       "      <th>ingredients</th>\n",
       "      <th>recette</th>\n",
       "    </tr>\n",
       "  </thead>\n",
       "  <tbody>\n",
       "    <tr>\n",
       "      <th>0</th>\n",
       "      <td>recette_221358.xml</td>\n",
       "      <td>Feuilleté de saumon et de poireau, sauce aux c...</td>\n",
       "      <td>Plat principal</td>\n",
       "      <td>Facile</td>\n",
       "      <td>Moyen</td>\n",
       "      <td>- 1 gros pavé de saumon - 100 g de crevettes d...</td>\n",
       "      <td>Couper finement le blanc et un peu de vert des...</td>\n",
       "    </tr>\n",
       "    <tr>\n",
       "      <th>1</th>\n",
       "      <td>recette_48656.xml</td>\n",
       "      <td>Cake poulet/moutarde/amandes</td>\n",
       "      <td>Entrée</td>\n",
       "      <td>Très facile</td>\n",
       "      <td>Bon marché</td>\n",
       "      <td>- 3 œufs - 150 g de farine - 1 sachet de levur...</td>\n",
       "      <td>Couper finement l'échalote, la faire revenir à...</td>\n",
       "    </tr>\n",
       "    <tr>\n",
       "      <th>2</th>\n",
       "      <td>recette_30049.xml</td>\n",
       "      <td>Bûche à la truite fumée (7ème rencontre)</td>\n",
       "      <td>Entrée</td>\n",
       "      <td>Moyennement difficile</td>\n",
       "      <td>Assez Cher</td>\n",
       "      <td>- 800 g de filet de truite saumonnée fumée en ...</td>\n",
       "      <td>Faites blanchir les épinards à l'eau bouillant...</td>\n",
       "    </tr>\n",
       "    <tr>\n",
       "      <th>3</th>\n",
       "      <td>recette_71424.xml</td>\n",
       "      <td>Gâteau au yaourt au coco sans huile de laetitia</td>\n",
       "      <td>Dessert</td>\n",
       "      <td>Très facile</td>\n",
       "      <td>Bon marché</td>\n",
       "      <td>- 1 pot de yaourt - 1 pot de lait de coco - 3 ...</td>\n",
       "      <td>Mélanger dans l'ordre tous les ingrédients en ...</td>\n",
       "    </tr>\n",
       "    <tr>\n",
       "      <th>4</th>\n",
       "      <td>recette_217204.xml</td>\n",
       "      <td>Crêpes au canard laqué</td>\n",
       "      <td>Entrée</td>\n",
       "      <td>Moyennement difficile</td>\n",
       "      <td>Moyen</td>\n",
       "      <td>- 90 g de farine - 45 g de maïzena - 2 œufs - ...</td>\n",
       "      <td>Fouetter les œufs avec l'eau, le lait et le su...</td>\n",
       "    </tr>\n",
       "  </tbody>\n",
       "</table>\n",
       "</div>"
      ],
      "text/plain": [
       "               doc_id                                              titre  \\\n",
       "0  recette_221358.xml  Feuilleté de saumon et de poireau, sauce aux c...   \n",
       "1   recette_48656.xml                       Cake poulet/moutarde/amandes   \n",
       "2   recette_30049.xml           Bûche à la truite fumée (7ème rencontre)   \n",
       "3   recette_71424.xml    Gâteau au yaourt au coco sans huile de laetitia   \n",
       "4  recette_217204.xml                             Crêpes au canard laqué   \n",
       "\n",
       "             type             difficulte        cout  \\\n",
       "0  Plat principal                 Facile       Moyen   \n",
       "1          Entrée            Très facile  Bon marché   \n",
       "2          Entrée  Moyennement difficile  Assez Cher   \n",
       "3         Dessert            Très facile  Bon marché   \n",
       "4          Entrée  Moyennement difficile       Moyen   \n",
       "\n",
       "                                         ingredients  \\\n",
       "0  - 1 gros pavé de saumon - 100 g de crevettes d...   \n",
       "1  - 3 œufs - 150 g de farine - 1 sachet de levur...   \n",
       "2  - 800 g de filet de truite saumonnée fumée en ...   \n",
       "3  - 1 pot de yaourt - 1 pot de lait de coco - 3 ...   \n",
       "4  - 90 g de farine - 45 g de maïzena - 2 œufs - ...   \n",
       "\n",
       "                                             recette  \n",
       "0  Couper finement le blanc et un peu de vert des...  \n",
       "1  Couper finement l'échalote, la faire revenir à...  \n",
       "2  Faites blanchir les épinards à l'eau bouillant...  \n",
       "3  Mélanger dans l'ordre tous les ingrédients en ...  \n",
       "4  Fouetter les œufs avec l'eau, le lait et le su...  "
      ]
     },
     "execution_count": 3,
     "metadata": {},
     "output_type": "execute_result"
    }
   ],
   "source": [
    "train.head(5)"
   ]
  },
  {
   "cell_type": "markdown",
   "metadata": {},
   "source": [
    "variables utiles : titre ,type,ingredient,recette"
   ]
  },
  {
   "cell_type": "code",
   "execution_count": 4,
   "metadata": {},
   "outputs": [
    {
     "name": "stdout",
     "output_type": "stream",
     "text": [
      "<class 'pandas.core.frame.DataFrame'>\n",
      "RangeIndex: 12473 entries, 0 to 12472\n",
      "Data columns (total 7 columns):\n",
      " #   Column       Non-Null Count  Dtype \n",
      "---  ------       --------------  ----- \n",
      " 0   doc_id       12473 non-null  object\n",
      " 1   titre        12473 non-null  object\n",
      " 2   type         12473 non-null  object\n",
      " 3   difficulte   12473 non-null  object\n",
      " 4   cout         12473 non-null  object\n",
      " 5   ingredients  12473 non-null  object\n",
      " 6   recette      12473 non-null  object\n",
      "dtypes: object(7)\n",
      "memory usage: 682.2+ KB\n",
      "None\n"
     ]
    }
   ],
   "source": [
    "print(train.info())"
   ]
  },
  {
   "cell_type": "markdown",
   "metadata": {},
   "source": [
    "Repartion des classes"
   ]
  },
  {
   "cell_type": "code",
   "execution_count": 5,
   "metadata": {},
   "outputs": [
    {
     "name": "stdout",
     "output_type": "stream",
     "text": [
      "type\n",
      "Plat principal    0.465165\n",
      "Dessert           0.301611\n",
      "Entrée            0.233224\n",
      "Name: proportion, dtype: float64\n"
     ]
    }
   ],
   "source": [
    "print(train['type'].value_counts(normalize=True))"
   ]
  },
  {
   "cell_type": "code",
   "execution_count": 6,
   "metadata": {},
   "outputs": [
    {
     "data": {
      "image/png": "[encoded data removed]",
      "text/plain": [
       "<Figure size 640x480 with 1 Axes>"
      ]
     },
     "metadata": {},
     "output_type": "display_data"
    }
   ],
   "source": [
    "train['type'].value_counts().plot(kind='bar')\n",
    "plt.xlabel(\"Type de Recette\")\n",
    "plt.ylabel(\"Nombre d'exemples\")\n",
    "plt.title(\"Distribution des Catégories de Recettes\")\n",
    "plt.show()"
   ]
  },
  {
   "cell_type": "markdown",
   "metadata": {},
   "source": [
    "verification doublons ou valeurs maquantes "
   ]
  },
  {
   "cell_type": "code",
   "execution_count": 7,
   "metadata": {},
   "outputs": [
    {
     "name": "stdout",
     "output_type": "stream",
     "text": [
      "doc_id         0\n",
      "titre          0\n",
      "type           0\n",
      "difficulte     0\n",
      "cout           0\n",
      "ingredients    0\n",
      "recette        0\n",
      "dtype: int64\n",
      "doublons 0\n"
     ]
    }
   ],
   "source": [
    "print(train.isnull().sum())\n",
    "\n",
    "print(\"doublons\",train.duplicated(subset=['titre', 'recette']).sum())\n",
    "\n"
   ]
  }
 ],
 "metadata": {
  "kernelspec": {
   "display_name": "Python 3",
   "language": "python",
   "name": "python3"
  },
  "language_info": {
   "codemirror_mode": {
    "name": "ipython",
    "version": 3
   },
   "file_extension": ".py",
   "mimetype": "text/x-python",
   "name": "python",
   "nbconvert_exporter": "python",
   "pygments_lexer": "ipython3",
   "version": "3.13.1"
  }
 },
 "nbformat": 4,
 "nbformat_minor": 2
}
