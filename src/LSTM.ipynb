{
  "cells": [
    {
      "cell_type": "code",
      "source": [
        "!pip uninstall numpy scipy pandas gensim -y\n",
        "!pip install numpy==1.26.4 scipy pandas gensim\n"
      ],
      "metadata": {
        "colab": {
          "base_uri": "https://localhost:8080/"
        },
        "id": "ACdUs_1dOq8R",
        "outputId": "d7c86504-9a03-4e81-98e5-fc2000fcd9e3"
      },
      "execution_count": 5,
      "outputs": [
        {
          "output_type": "stream",
          "name": "stdout",
          "text": [
            "Found existing installation: numpy 1.26.4\n",
            "Uninstalling numpy-1.26.4:\n",
            "  Successfully uninstalled numpy-1.26.4\n",
            "Found existing installation: scipy 1.13.1\n",
            "Uninstalling scipy-1.13.1:\n",
            "  Successfully uninstalled scipy-1.13.1\n",
            "Found existing installation: pandas 2.2.2\n",
            "Uninstalling pandas-2.2.2:\n",
            "  Successfully uninstalled pandas-2.2.2\n",
            "Found existing installation: gensim 4.3.3\n",
            "Uninstalling gensim-4.3.3:\n",
            "  Successfully uninstalled gensim-4.3.3\n",
            "Collecting numpy==1.26.4\n",
            "  Using cached numpy-1.26.4-cp311-cp311-manylinux_2_17_x86_64.manylinux2014_x86_64.whl.metadata (61 kB)\n",
            "Collecting scipy\n",
            "  Using cached scipy-1.15.2-cp311-cp311-manylinux_2_17_x86_64.manylinux2014_x86_64.whl.metadata (61 kB)\n",
            "Collecting pandas\n",
            "  Downloading pandas-2.2.3-cp311-cp311-manylinux_2_17_x86_64.manylinux2014_x86_64.whl.metadata (89 kB)\n",
            "\u001b[2K     \u001b[90m━━━━━━━━━━━━━━━━━━━━━━━━━━━━━━━━━━━━━━━━\u001b[0m \u001b[32m89.9/89.9 kB\u001b[0m \u001b[31m3.6 MB/s\u001b[0m eta \u001b[36m0:00:00\u001b[0m\n",
            "\u001b[?25hCollecting gensim\n",
            "  Using cached gensim-4.3.3-cp311-cp311-manylinux_2_17_x86_64.manylinux2014_x86_64.whl.metadata (8.1 kB)\n",
            "Requirement already satisfied: python-dateutil>=2.8.2 in /usr/local/lib/python3.11/dist-packages (from pandas) (2.8.2)\n",
            "Requirement already satisfied: pytz>=2020.1 in /usr/local/lib/python3.11/dist-packages (from pandas) (2025.1)\n",
            "Requirement already satisfied: tzdata>=2022.7 in /usr/local/lib/python3.11/dist-packages (from pandas) (2025.1)\n",
            "Collecting scipy\n",
            "  Using cached scipy-1.13.1-cp311-cp311-manylinux_2_17_x86_64.manylinux2014_x86_64.whl.metadata (60 kB)\n",
            "Requirement already satisfied: smart-open>=1.8.1 in /usr/local/lib/python3.11/dist-packages (from gensim) (7.1.0)\n",
            "Requirement already satisfied: six>=1.5 in /usr/local/lib/python3.11/dist-packages (from python-dateutil>=2.8.2->pandas) (1.17.0)\n",
            "Requirement already satisfied: wrapt in /usr/local/lib/python3.11/dist-packages (from smart-open>=1.8.1->gensim) (1.17.2)\n",
            "Using cached numpy-1.26.4-cp311-cp311-manylinux_2_17_x86_64.manylinux2014_x86_64.whl (18.3 MB)\n",
            "Downloading pandas-2.2.3-cp311-cp311-manylinux_2_17_x86_64.manylinux2014_x86_64.whl (13.1 MB)\n",
            "\u001b[2K   \u001b[90m━━━━━━━━━━━━━━━━━━━━━━━━━━━━━━━━━━━━━━━━\u001b[0m \u001b[32m13.1/13.1 MB\u001b[0m \u001b[31m64.5 MB/s\u001b[0m eta \u001b[36m0:00:00\u001b[0m\n",
            "\u001b[?25hUsing cached gensim-4.3.3-cp311-cp311-manylinux_2_17_x86_64.manylinux2014_x86_64.whl (26.7 MB)\n",
            "Using cached scipy-1.13.1-cp311-cp311-manylinux_2_17_x86_64.manylinux2014_x86_64.whl (38.6 MB)\n",
            "Installing collected packages: numpy, scipy, pandas, gensim\n",
            "\u001b[31mERROR: pip's dependency resolver does not currently take into account all the packages that are installed. This behaviour is the source of the following dependency conflicts.\n",
            "google-colab 1.0.0 requires pandas==2.2.2, but you have pandas 2.2.3 which is incompatible.\u001b[0m\u001b[31m\n",
            "\u001b[0mSuccessfully installed gensim-4.3.3 numpy-1.26.4 pandas-2.2.3 scipy-1.13.1\n"
          ]
        }
      ]
    },
    {
      "cell_type": "code",
      "execution_count": 2,
      "metadata": {
        "colab": {
          "base_uri": "https://localhost:8080/"
        },
        "id": "uz6lybEHHc9N",
        "outputId": "8fbc6e92-c278-4571-bfce-f7336e5be96a"
      },
      "outputs": [
        {
          "output_type": "stream",
          "name": "stdout",
          "text": [
            "Collecting fr-core-news-sm==3.8.0\n",
            "  Downloading https://github.com/explosion/spacy-models/releases/download/fr_core_news_sm-3.8.0/fr_core_news_sm-3.8.0-py3-none-any.whl (16.3 MB)\n",
            "\u001b[2K     \u001b[90m━━━━━━━━━━━━━━━━━━━━━━━━━━━━━━━━━━━━━━━━\u001b[0m \u001b[32m16.3/16.3 MB\u001b[0m \u001b[31m100.0 MB/s\u001b[0m eta \u001b[36m0:00:00\u001b[0m\n",
            "\u001b[?25hInstalling collected packages: fr-core-news-sm\n",
            "Successfully installed fr-core-news-sm-3.8.0\n",
            "\u001b[38;5;2m✔ Download and installation successful\u001b[0m\n",
            "You can now load the package via spacy.load('fr_core_news_sm')\n",
            "\u001b[38;5;3m⚠ Restart to reload dependencies\u001b[0m\n",
            "If you are in a Jupyter or Colab notebook, you may need to restart Python in\n",
            "order to load all the package's dependencies. You can do this by selecting the\n",
            "'Restart kernel' or 'Restart runtime' option.\n"
          ]
        }
      ],
      "source": [
        "!python -m spacy download fr_core_news_sm"
      ]
    },
    {
      "cell_type": "code",
      "execution_count": 1,
      "metadata": {
        "id": "jlDX7aU2HUAH"
      },
      "outputs": [],
      "source": [
        "import pandas as pd\n",
        "import numpy as np\n",
        "import spacy\n",
        "import gensim\n",
        "from gensim.models import Word2Vec\n",
        "from tensorflow.keras.preprocessing.text import Tokenizer\n",
        "from tensorflow.keras.preprocessing.sequence import pad_sequences\n",
        "from tensorflow.keras.utils import to_categorical\n",
        "from tensorflow.keras.models import Sequential\n",
        "from tensorflow.keras.layers import Embedding, LSTM, Dense, Dropout\n",
        "from sklearn.model_selection import train_test_split\n",
        "from sklearn.preprocessing import LabelEncoder"
      ]
    },
    {
      "cell_type": "code",
      "execution_count": 2,
      "metadata": {
        "colab": {
          "base_uri": "https://localhost:8080/"
        },
        "id": "ApTO5MaWHJmG",
        "outputId": "006ca177-4c09-441a-fead-706a0c2fcac9"
      },
      "outputs": [
        {
          "output_type": "stream",
          "name": "stdout",
          "text": [
            "type\n",
            "Plat principal    5802\n",
            "Dessert           3762\n",
            "Entrée            2909\n",
            "Name: count, dtype: int64\n"
          ]
        }
      ],
      "source": [
        "# Charger le modèle spaCy français\n",
        "nlp = spacy.load(\"fr_core_news_sm\")\n",
        "\n",
        "df = pd.read_csv(\"/content/train (1).csv\", encoding=\"utf-8\")\n",
        "df_test = pd.read_csv(\"/content/test (1).csv\", encoding=\"utf-8\")\n",
        "\n",
        "# Vérifier les colonnes et créer la colonne `text` (titre + recette)\n",
        "df.dropna(subset=['titre', 'recette', 'type'], inplace=True)\n",
        "df['text'] = df['titre'] + \" \" + df['recette']\n",
        "df_test['text'] = df_test['titre'] + \" \" + df_test['recette']\n",
        "\n",
        "# Nettoyage du texte (tokenization + lemmatisation avec spaCy)\n",
        "def clean_text(text):\n",
        "    doc = nlp(text.lower())\n",
        "    tokens = [token.lemma_ for token in doc if token.is_alpha and not token.is_stop]\n",
        "    return tokens\n",
        "\n",
        "df['tokens'] = df['text'].apply(clean_text)\n",
        "df_test['tokens'] = df_test['text'].apply(clean_text)\n",
        "\n",
        "# Vérifier la répartition des classes\n",
        "print(df['type'].value_counts())\n"
      ]
    },
    {
      "cell_type": "code",
      "execution_count": 3,
      "metadata": {
        "colab": {
          "base_uri": "https://localhost:8080/"
        },
        "id": "NmlfzqRAJSaV",
        "outputId": "1eb87f0c-d617-4199-a7f3-6376b3d2fdb5"
      },
      "outputs": [
        {
          "output_type": "stream",
          "name": "stdout",
          "text": [
            "[('fumé', 0.7944927215576172), ('pavé', 0.6722130179405212), ('truite', 0.6716110110282898), ('asperge', 0.6134769320487976), ('poisson', 0.6122062802314758), ('lescrevette', 0.5950573086738586), ('thon', 0.5948064923286438), ('épinard', 0.5823583006858826), ('darne', 0.5800009965896606), ('surimi', 0.5745980739593506)]\n"
          ]
        }
      ],
      "source": [
        "# Entraîner Word2Vec\n",
        "word2vec_model = Word2Vec(sentences=df['tokens'],\n",
        "                          vector_size=300,\n",
        "                          window=5, min_count=1,\n",
        "                          workers=4)\n",
        "word2vec_model.save(\"word2vec_model.bin\")\n",
        "\n",
        "# Vérifier quelques mots\n",
        "print(word2vec_model.wv.most_similar(\"saumon\"))\n"
      ]
    },
    {
      "cell_type": "code",
      "execution_count": 4,
      "metadata": {
        "id": "Kudn-R1HMRZT"
      },
      "outputs": [],
      "source": [
        "MAX_NB_WORDS = 5000  # Nombre max de mots\n",
        "MAX_SEQUENCE_LENGTH = 100  # Longueur max d'une séquence\n",
        "\n",
        "# Initialiser un tokenizer\n",
        "tokenizer = Tokenizer(num_words=30_000, oov_token=\"<OOV>\", filters='!\"#%&()*+,-./:;<=>?@[\\\\]^_`{|}~\\t\\n')\n",
        "tokenizer.fit_on_texts(df['text'])\n",
        "\n",
        "# Convertir les textes en séquences\n",
        "sequences = tokenizer.texts_to_sequences(df['text'])\n",
        "word_index = tokenizer.word_index\n",
        "\n",
        "# Appliquer un padding pour uniformiser la taille des séquences\n",
        "X = pad_sequences(sequences, maxlen=MAX_SEQUENCE_LENGTH)\n",
        "\n",
        "# Encoder les labels\n",
        "encoder = LabelEncoder()\n",
        "df['type_encoded'] = encoder.fit_transform(df['type'])\n",
        "y = to_categorical(df['type_encoded'])  # Encodage one-hot pour classification\n",
        "\n",
        "# Convertir les textes en séquences en utilisant le tokenizer déjà entraîné\n",
        "sequences_test = tokenizer.texts_to_sequences(df_test['text'])\n",
        "X_test = pad_sequences(sequences_test, maxlen=MAX_SEQUENCE_LENGTH)\n",
        "\n",
        "df_test['type_encoded'] = encoder.transform(df_test['type'])\n",
        "y_test = to_categorical(df_test['type_encoded'])\n",
        "\n",
        "X_train, X_val, y_train, y_val = train_test_split(X, y, test_size=0.2, stratify=y, random_state=42)"
      ]
    },
    {
      "cell_type": "code",
      "execution_count": 5,
      "metadata": {
        "colab": {
          "base_uri": "https://localhost:8080/"
        },
        "id": "Fpr8Ye1NMcQ0",
        "outputId": "dadfef03-80ce-4d4e-bc7a-3a5b346ee772"
      },
      "outputs": [
        {
          "output_type": "stream",
          "name": "stdout",
          "text": [
            "(22599, 300)\n"
          ]
        }
      ],
      "source": [
        "EMBEDDING_DIM = 300\n",
        "\n",
        "# Créer la matrice d'embeddings\n",
        "embedding_matrix = np.zeros((len(word_index) + 1, EMBEDDING_DIM))\n",
        "for word, i in word_index.items():\n",
        "    if word in word2vec_model.wv:\n",
        "        embedding_matrix[i] = word2vec_model.wv[word]\n",
        "\n",
        "# Vérifier une embedding\n",
        "print(embedding_matrix.shape)\n"
      ]
    },
    {
      "cell_type": "code",
      "source": [
        "# Vérifier la dimension des vecteurs Word2Vec\n",
        "print(\"Dimension réelle des embeddings Word2Vec :\", word2vec_model.vector_size)\n"
      ],
      "metadata": {
        "colab": {
          "base_uri": "https://localhost:8080/"
        },
        "id": "BHaD0U9i1Wuh",
        "outputId": "0e2b418b-287f-4bb5-a640-17208b61bceb"
      },
      "execution_count": 6,
      "outputs": [
        {
          "output_type": "stream",
          "name": "stdout",
          "text": [
            "Dimension réelle des embeddings Word2Vec : 300\n"
          ]
        }
      ]
    },
    {
      "cell_type": "code",
      "execution_count": 7,
      "metadata": {
        "id": "gWM3O757Mf5d",
        "colab": {
          "base_uri": "https://localhost:8080/"
        },
        "outputId": "a887ed57-6169-46b2-9f38-d84d9243a5c7"
      },
      "outputs": [
        {
          "output_type": "stream",
          "name": "stderr",
          "text": [
            "/usr/local/lib/python3.11/dist-packages/keras/src/layers/core/embedding.py:90: UserWarning: Argument `input_length` is deprecated. Just remove it.\n",
            "  warnings.warn(\n"
          ]
        }
      ],
      "source": [
        "# Construire le modèle LSTM\n",
        "model = Sequential()\n",
        "model.add(Embedding(input_dim=len(word_index) + 1,\n",
        "                    output_dim=EMBEDDING_DIM,\n",
        "                    weights=[embedding_matrix],\n",
        "                    input_length=MAX_SEQUENCE_LENGTH,\n",
        "                    trainable=False))  # On fige les embeddings Word2Vec\n",
        "\n",
        "model.add(LSTM(128, return_sequences=True))\n",
        "model.add(Dropout(0.5))\n",
        "model.add(LSTM(64))\n",
        "model.add(Dense(32, activation='relu'))\n",
        "model.add(Dense(y.shape[1], activation='softmax'))\n"
      ]
    },
    {
      "cell_type": "code",
      "source": [
        "from tensorflow.keras.optimizers import Adam\n",
        "model.compile(\n",
        "    loss='categorical_crossentropy',  # Perte adaptée à la classification multi-classes\n",
        "    optimizer=Adam(learning_rate=0.0001),  # Optimisation avec Adam et un taux d’apprentissage réduit\n",
        "    metrics=['accuracy']  # Suivi de la précision pendant l’entraînement\n",
        ")\n"
      ],
      "metadata": {
        "id": "MVlc3e-YEdff"
      },
      "execution_count": 13,
      "outputs": []
    },
    {
      "cell_type": "code",
      "source": [
        "history = model.fit(\n",
        "    X_train, y_train,\n",
        "    epochs=16,\n",
        "    batch_size=128,\n",
        "    validation_data=(X_val, y_val),\n",
        "    verbose=1\n",
        ")"
      ],
      "metadata": {
        "colab": {
          "base_uri": "https://localhost:8080/"
        },
        "id": "fH3WubpiE9Fc",
        "outputId": "36d65a01-d3c7-4161-e764-e6e9bbdfca31"
      },
      "execution_count": 9,
      "outputs": [
        {
          "output_type": "stream",
          "name": "stdout",
          "text": [
            "Epoch 1/16\n",
            "\u001b[1m78/78\u001b[0m \u001b[32m━━━━━━━━━━━━━━━━━━━━\u001b[0m\u001b[37m\u001b[0m \u001b[1m8s\u001b[0m 24ms/step - accuracy: 0.4860 - loss: 1.0221 - val_accuracy: 0.7383 - val_loss: 0.6373\n",
            "Epoch 2/16\n",
            "\u001b[1m78/78\u001b[0m \u001b[32m━━━━━━━━━━━━━━━━━━━━\u001b[0m\u001b[37m\u001b[0m \u001b[1m7s\u001b[0m 19ms/step - accuracy: 0.7717 - loss: 0.5559 - val_accuracy: 0.7844 - val_loss: 0.4721\n",
            "Epoch 3/16\n",
            "\u001b[1m78/78\u001b[0m \u001b[32m━━━━━━━━━━━━━━━━━━━━\u001b[0m\u001b[37m\u001b[0m \u001b[1m1s\u001b[0m 18ms/step - accuracy: 0.8094 - loss: 0.4431 - val_accuracy: 0.8112 - val_loss: 0.4378\n",
            "Epoch 4/16\n",
            "\u001b[1m78/78\u001b[0m \u001b[32m━━━━━━━━━━━━━━━━━━━━\u001b[0m\u001b[37m\u001b[0m \u001b[1m2s\u001b[0m 21ms/step - accuracy: 0.8232 - loss: 0.4074 - val_accuracy: 0.8120 - val_loss: 0.4176\n",
            "Epoch 5/16\n",
            "\u001b[1m78/78\u001b[0m \u001b[32m━━━━━━━━━━━━━━━━━━━━\u001b[0m\u001b[37m\u001b[0m \u001b[1m1s\u001b[0m 17ms/step - accuracy: 0.8399 - loss: 0.3779 - val_accuracy: 0.8164 - val_loss: 0.4093\n",
            "Epoch 6/16\n",
            "\u001b[1m78/78\u001b[0m \u001b[32m━━━━━━━━━━━━━━━━━━━━\u001b[0m\u001b[37m\u001b[0m \u001b[1m3s\u001b[0m 18ms/step - accuracy: 0.8363 - loss: 0.3729 - val_accuracy: 0.8257 - val_loss: 0.4065\n",
            "Epoch 7/16\n",
            "\u001b[1m78/78\u001b[0m \u001b[32m━━━━━━━━━━━━━━━━━━━━\u001b[0m\u001b[37m\u001b[0m \u001b[1m3s\u001b[0m 17ms/step - accuracy: 0.8457 - loss: 0.3575 - val_accuracy: 0.8293 - val_loss: 0.4003\n",
            "Epoch 8/16\n",
            "\u001b[1m78/78\u001b[0m \u001b[32m━━━━━━━━━━━━━━━━━━━━\u001b[0m\u001b[37m\u001b[0m \u001b[1m1s\u001b[0m 17ms/step - accuracy: 0.8524 - loss: 0.3497 - val_accuracy: 0.8257 - val_loss: 0.4056\n",
            "Epoch 9/16\n",
            "\u001b[1m78/78\u001b[0m \u001b[32m━━━━━━━━━━━━━━━━━━━━\u001b[0m\u001b[37m\u001b[0m \u001b[1m3s\u001b[0m 20ms/step - accuracy: 0.8541 - loss: 0.3436 - val_accuracy: 0.8273 - val_loss: 0.3983\n",
            "Epoch 10/16\n",
            "\u001b[1m78/78\u001b[0m \u001b[32m━━━━━━━━━━━━━━━━━━━━\u001b[0m\u001b[37m\u001b[0m \u001b[1m2s\u001b[0m 20ms/step - accuracy: 0.8510 - loss: 0.3535 - val_accuracy: 0.8333 - val_loss: 0.3860\n",
            "Epoch 11/16\n",
            "\u001b[1m78/78\u001b[0m \u001b[32m━━━━━━━━━━━━━━━━━━━━\u001b[0m\u001b[37m\u001b[0m \u001b[1m2s\u001b[0m 18ms/step - accuracy: 0.8566 - loss: 0.3403 - val_accuracy: 0.8293 - val_loss: 0.3938\n",
            "Epoch 12/16\n",
            "\u001b[1m78/78\u001b[0m \u001b[32m━━━━━━━━━━━━━━━━━━━━\u001b[0m\u001b[37m\u001b[0m \u001b[1m1s\u001b[0m 18ms/step - accuracy: 0.8538 - loss: 0.3382 - val_accuracy: 0.8345 - val_loss: 0.3832\n",
            "Epoch 13/16\n",
            "\u001b[1m78/78\u001b[0m \u001b[32m━━━━━━━━━━━━━━━━━━━━\u001b[0m\u001b[37m\u001b[0m \u001b[1m3s\u001b[0m 20ms/step - accuracy: 0.8589 - loss: 0.3275 - val_accuracy: 0.8277 - val_loss: 0.3906\n",
            "Epoch 14/16\n",
            "\u001b[1m78/78\u001b[0m \u001b[32m━━━━━━━━━━━━━━━━━━━━\u001b[0m\u001b[37m\u001b[0m \u001b[1m2s\u001b[0m 18ms/step - accuracy: 0.8568 - loss: 0.3289 - val_accuracy: 0.8377 - val_loss: 0.3813\n",
            "Epoch 15/16\n",
            "\u001b[1m78/78\u001b[0m \u001b[32m━━━━━━━━━━━━━━━━━━━━\u001b[0m\u001b[37m\u001b[0m \u001b[1m2s\u001b[0m 20ms/step - accuracy: 0.8638 - loss: 0.3184 - val_accuracy: 0.8317 - val_loss: 0.3834\n",
            "Epoch 16/16\n",
            "\u001b[1m78/78\u001b[0m \u001b[32m━━━━━━━━━━━━━━━━━━━━\u001b[0m\u001b[37m\u001b[0m \u001b[1m2s\u001b[0m 18ms/step - accuracy: 0.8663 - loss: 0.3180 - val_accuracy: 0.8261 - val_loss: 0.3999\n"
          ]
        }
      ]
    },
    {
      "cell_type": "code",
      "execution_count": 12,
      "metadata": {
        "id": "uO5POgOJZI5a",
        "colab": {
          "base_uri": "https://localhost:8080/",
          "height": 715
        },
        "outputId": "349f91c7-7d06-4a46-a768-0bca7aea4164"
      },
      "outputs": [
        {
          "output_type": "stream",
          "name": "stdout",
          "text": [
            "\u001b[1m44/44\u001b[0m \u001b[32m━━━━━━━━━━━━━━━━━━━━\u001b[0m\u001b[37m\u001b[0m \u001b[1m0s\u001b[0m 7ms/step\n"
          ]
        },
        {
          "output_type": "display_data",
          "data": {
            "text/plain": [
              "<Figure size 640x480 with 2 Axes>"
            ],
            "image/png": "[encoded data removed]"
          },
          "metadata": {}
        },
        {
          "output_type": "stream",
          "name": "stdout",
          "text": [
            "Test Accuracy: 84.15%\n",
            "\n",
            "Rapport Détaillé :\n",
            "                precision    recall  f1-score   support\n",
            "\n",
            "       Dessert       0.93      0.99      0.96       407\n",
            "        Entrée       0.73      0.61      0.67       337\n",
            "Plat principal       0.83      0.87      0.85       644\n",
            "\n",
            "      accuracy                           0.84      1388\n",
            "     macro avg       0.83      0.82      0.82      1388\n",
            "  weighted avg       0.84      0.84      0.84      1388\n",
            "\n"
          ]
        }
      ],
      "source": [
        "from sklearn.metrics import confusion_matrix, ConfusionMatrixDisplay, classification_report  # Ajouter ceci\n",
        "import matplotlib.pyplot as plt\n",
        "\n",
        "# Prédictions et évaluation\n",
        "y_pred = model.predict(X_test)\n",
        "y_pred_classes = np.argmax(y_pred, axis=1)\n",
        "y_true_classes = np.argmax(y_test, axis=1)\n",
        "\n",
        "# Matrice de confusion\n",
        "cm = confusion_matrix(y_true_classes, y_pred_classes)\n",
        "disp = ConfusionMatrixDisplay(confusion_matrix=cm, display_labels=encoder.classes_)\n",
        "disp.plot(cmap=plt.cm.Blues)\n",
        "plt.title(\"Matrice de Confusion du Modèle LSTM\")\n",
        "plt.show()\n",
        "\n",
        "# Rapport de classification\n",
        "print(\"Test Accuracy: {:.2f}%\".format(acc * 100))\n",
        "print(\"\\nRapport Détaillé :\")\n",
        "print(classification_report(y_true_classes, y_pred_classes, target_names=encoder.classes_))"
      ]
    }
  ],
  "metadata": {
    "accelerator": "GPU",
    "colab": {
      "gpuType": "T4",
      "provenance": []
    },
    "kernelspec": {
      "display_name": "Python 3",
      "name": "python3"
    },
    "language_info": {
      "name": "python"
    }
  },
  "nbformat": 4,
  "nbformat_minor": 0
}
