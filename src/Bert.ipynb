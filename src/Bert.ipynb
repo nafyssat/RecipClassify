{
 "cells": [
  {
   "cell_type": "code",
   "execution_count": 1,
   "metadata": {},
   "outputs": [],
   "source": [
    "import pandas as pd\n",
    "import torch\n",
    "import torch.nn as nn\n",
    "import torch.optim as optim\n",
    "from transformers import CamembertTokenizer, CamembertModel\n",
    "from torch.utils.data import DataLoader, Dataset\n",
    "from sklearn.metrics import classification_report, confusion_matrix\n",
    "import seaborn as sns\n",
    "import matplotlib.pyplot as plt\n",
    "\n",
    "# Charger les données\n",
    "df_train = pd.read_csv(\"../data/train.csv\")\n",
    "df_test = pd.read_csv(\"../data/test.csv\")\n",
    "\n",
    "# Mapping des labels\n",
    "label_mapping = {\"Entrée\": 0, \"Plat principal\": 1, \"Dessert\": 2}\n",
    "df_train[\"label\"] = df_train[\"type\"].map(label_mapping)\n",
    "df_test[\"label\"] = df_test[\"type\"].map(label_mapping)\n",
    "\n",
    "# Fusionner les textes\n",
    "df_train[\"text\"] = df_train[\"titre\"] + \" \" + df_train[\"ingredients\"] + \" \" + df_train[\"recette\"]\n",
    "df_test[\"text\"] = df_test[\"titre\"] + \" \" + df_test[\"ingredients\"] + \" \" + df_test[\"recette\"]\n"
   ]
  },
  {
   "cell_type": "code",
   "execution_count": 2,
   "metadata": {},
   "outputs": [],
   "source": [
    "# Charger Camembert et Tokenizer\n",
    "tokenizer = CamembertTokenizer.from_pretrained(\"camembert-base\")\n",
    "model_bert = CamembertModel.from_pretrained(\"camembert-base\")\n",
    "\n",
    "device = torch.device(\"cuda\" if torch.cuda.is_available() else \"cpu\")\n",
    "model_bert.to(device)\n",
    "\n",
    "# Fonction pour encoder les textes et retourner input_ids et attention_mask\n",
    "def encode_texts(texts, tokenizer, batch_size=16):\n",
    "    input_ids = []\n",
    "    attention_masks = []\n",
    "\n",
    "    for i in range(0, len(texts), batch_size):\n",
    "        batch = texts[i:i+batch_size]\n",
    "        encoding = tokenizer(batch, return_tensors=\"pt\", padding=True, truncation=True, max_length=128)\n",
    "        \n",
    "        input_ids.append(encoding[\"input_ids\"])\n",
    "        attention_masks.append(encoding[\"attention_mask\"])\n",
    "    \n",
    "    return torch.cat(input_ids, dim=0), torch.cat(attention_masks, dim=0)\n",
    "\n",
    "# Encoder les textes pour l'entraînement et le test\n",
    "X_train_input_ids, X_train_attention_mask = encode_texts(df_train[\"text\"].tolist(), tokenizer)\n",
    "X_test_input_ids, X_test_attention_mask = encode_texts(df_test[\"text\"].tolist(), tokenizer)\n",
    "\n",
    "# Labels\n",
    "y_train = torch.tensor(df_train[\"label\"].values, dtype=torch.long)\n",
    "y_test = torch.tensor(df_test[\"label\"].values, dtype=torch.long)\n"
   ]
  },
  {
   "cell_type": "code",
   "execution_count": 3,
   "metadata": {},
   "outputs": [],
   "source": [
    "class BertClassifier(nn.Module):\n",
    "    def __init__(self, bert_model, num_classes=3):\n",
    "        super(BertClassifier, self).__init__()\n",
    "        self.bert = bert_model\n",
    "        self.dropout = nn.Dropout(0.3)\n",
    "        self.fc = nn.Linear(self.bert.config.hidden_size, num_classes)\n",
    "\n",
    "    def forward(self, input_ids, attention_mask):\n",
    "        outputs = self.bert(input_ids=input_ids, attention_mask=attention_mask)\n",
    "        pooled_output = outputs.last_hidden_state.mean(dim=1)  # Moyenne des embeddings\n",
    "        output = self.dropout(pooled_output)\n",
    "        return self.fc(output)\n",
    "\n",
    "# Créer et déplacer le modèle sur le bon appareil (CPU/GPU)\n",
    "model = BertClassifier(model_bert).to(device)\n"
   ]
  },
  {
   "cell_type": "code",
   "execution_count": null,
   "metadata": {},
   "outputs": [],
   "source": [
    "# Fonction d'entraînement du modèle\n",
    "def train_model(model, X_train_input_ids, X_train_attention_mask, y_train, epochs=5, batch_size=16):\n",
    "    optimizer = optim.AdamW(model.parameters(), lr=2e-5)\n",
    "    criterion = nn.CrossEntropyLoss()\n",
    "\n",
    "    model.train()\n",
    "    for epoch in range(epochs):\n",
    "        total_loss = 0\n",
    "        for i in range(0, len(X_train_input_ids), batch_size):\n",
    "            input_ids = X_train_input_ids[i:i+batch_size].to(device)\n",
    "            attention_mask = X_train_attention_mask[i:i+batch_size].to(device)\n",
    "            labels = y_train[i:i+batch_size].to(device)\n",
    "\n",
    "            optimizer.zero_grad()\n",
    "            outputs = model(input_ids, attention_mask)\n",
    "            loss = criterion(outputs, labels)\n",
    "            loss.backward()\n",
    "            optimizer.step()\n",
    "\n",
    "            total_loss += loss.item()\n",
    "\n",
    "        print(f\"Époque {epoch + 1}, Perte Moyenne: {total_loss / len(X_train_input_ids):.4f}\")\n",
    "\n",
    "# Entraînement du modèle\n",
    "train_model(model, X_train_input_ids, X_train_attention_mask, y_train, epochs=5, batch_size=16)\n"
   ]
  },
  {
   "cell_type": "code",
   "execution_count": 5,
   "metadata": {},
   "outputs": [
    {
     "data": {
      "text/plain": [
       "BertClassifier(\n",
       "  (bert): CamembertModel(\n",
       "    (embeddings): CamembertEmbeddings(\n",
       "      (word_embeddings): Embedding(32005, 768, padding_idx=1)\n",
       "      (position_embeddings): Embedding(514, 768, padding_idx=1)\n",
       "      (token_type_embeddings): Embedding(1, 768)\n",
       "      (LayerNorm): LayerNorm((768,), eps=1e-05, elementwise_affine=True)\n",
       "      (dropout): Dropout(p=0.1, inplace=False)\n",
       "    )\n",
       "    (encoder): CamembertEncoder(\n",
       "      (layer): ModuleList(\n",
       "        (0-11): 12 x CamembertLayer(\n",
       "          (attention): CamembertAttention(\n",
       "            (self): CamembertSdpaSelfAttention(\n",
       "              (query): Linear(in_features=768, out_features=768, bias=True)\n",
       "              (key): Linear(in_features=768, out_features=768, bias=True)\n",
       "              (value): Linear(in_features=768, out_features=768, bias=True)\n",
       "              (dropout): Dropout(p=0.1, inplace=False)\n",
       "            )\n",
       "            (output): CamembertSelfOutput(\n",
       "              (dense): Linear(in_features=768, out_features=768, bias=True)\n",
       "              (LayerNorm): LayerNorm((768,), eps=1e-05, elementwise_affine=True)\n",
       "              (dropout): Dropout(p=0.1, inplace=False)\n",
       "            )\n",
       "          )\n",
       "          (intermediate): CamembertIntermediate(\n",
       "            (dense): Linear(in_features=768, out_features=3072, bias=True)\n",
       "            (intermediate_act_fn): GELUActivation()\n",
       "          )\n",
       "          (output): CamembertOutput(\n",
       "            (dense): Linear(in_features=3072, out_features=768, bias=True)\n",
       "            (LayerNorm): LayerNorm((768,), eps=1e-05, elementwise_affine=True)\n",
       "            (dropout): Dropout(p=0.1, inplace=False)\n",
       "          )\n",
       "        )\n",
       "      )\n",
       "    )\n",
       "    (pooler): CamembertPooler(\n",
       "      (dense): Linear(in_features=768, out_features=768, bias=True)\n",
       "      (activation): Tanh()\n",
       "    )\n",
       "  )\n",
       "  (dropout): Dropout(p=0.3, inplace=False)\n",
       "  (fc): Linear(in_features=768, out_features=3, bias=True)\n",
       ")"
      ]
     },
     "execution_count": 5,
     "metadata": {},
     "output_type": "execute_result"
    }
   ],
   "source": [
    "# Charger le modèle Camembert\n",
    "model_bert = CamembertModel.from_pretrained(\"camembert-base\")\n",
    "model = BertClassifier(model_bert).to(device)\n",
    "\n",
    "# Charger les poids pré-entraînés\n",
    "model.load_state_dict(torch.load(\"bert_epoch_10.pth\", map_location=device))\n",
    "model.eval()  # Mettre le modèle en mode évaluation si tu ne veux pas faire d'entraînement\n"
   ]
  },
  {
   "cell_type": "code",
   "execution_count": 6,
   "metadata": {},
   "outputs": [
    {
     "name": "stdout",
     "output_type": "stream",
     "text": [
      "📊 **Rapport de classification** :\n",
      "              precision    recall  f1-score   support\n",
      "\n",
      "      Entrée       0.70      0.78      0.74       337\n",
      "        Plat       0.88      0.83      0.85       644\n",
      "     Dessert       0.99      0.99      0.99       407\n",
      "\n",
      "    accuracy                           0.86      1388\n",
      "   macro avg       0.86      0.86      0.86      1388\n",
      "weighted avg       0.87      0.86      0.86      1388\n",
      "\n"
     ]
    },
    {
     "data": {
      "image/png": "[encoded data removed]",
      "text/plain": [
       "<Figure size 600x600 with 2 Axes>"
      ]
     },
     "metadata": {},
     "output_type": "display_data"
    }
   ],
   "source": [
    "# Fonction d'évaluation du modèle et calcul du F1-score + Matrice de confusion\n",
    "def evaluate_with_metrics(model, X_test_input_ids, X_test_attention_mask, y_test):\n",
    "    model.eval()\n",
    "    all_labels = []\n",
    "    all_predictions = []\n",
    "\n",
    "    with torch.no_grad():\n",
    "        outputs = model(X_test_input_ids.to(device), X_test_attention_mask.to(device))\n",
    "        predictions = torch.argmax(outputs, dim=1)\n",
    "        all_labels.extend(y_test.cpu().numpy())\n",
    "        all_predictions.extend(predictions.cpu().numpy())\n",
    "\n",
    "    # Calcul du F1-score\n",
    "    print(\"📊 **Rapport de classification** :\")\n",
    "    print(classification_report(all_labels, all_predictions, target_names=['Entrée', 'Plat', 'Dessert']))\n",
    "\n",
    "    # Matrice de confusion\n",
    "    cm = confusion_matrix(all_labels, all_predictions)\n",
    "    plt.figure(figsize=(6,6))\n",
    "    sns.heatmap(cm, annot=True, fmt=\"d\", cmap=\"Blues\", xticklabels=['Entrée', 'Plat', 'Dessert'], yticklabels=['Entrée', 'Plat', 'Dessert'])\n",
    "    plt.xlabel(\"Prédictions\")\n",
    "    plt.ylabel(\"Vrais Labels\")\n",
    "    plt.title(\"Matrice de Confusion\")\n",
    "    plt.show()\n",
    "\n",
    "# Évaluation complète\n",
    "evaluate_with_metrics(model, X_test_input_ids, X_test_attention_mask, y_test)\n"
   ]
  }
 ],
 "metadata": {
  "kernelspec": {
   "display_name": "Python 3",
   "language": "python",
   "name": "python3"
  },
  "language_info": {
   "codemirror_mode": {
    "name": "ipython",
    "version": 3
   },
   "file_extension": ".py",
   "mimetype": "text/x-python",
   "name": "python",
   "nbconvert_exporter": "python",
   "pygments_lexer": "ipython3",
   "version": "3.13.1"
  }
 },
 "nbformat": 4,
 "nbformat_minor": 2
}
